{
 "cells": [
  {
   "cell_type": "markdown",
   "metadata": {
    "id": "3z9l7S6RV8-2"
   },
   "source": [
    "#### **Welcome to Assignment 4 (part-1) on Deep Learning for Computer Vision.**\n",
    "In this assignment you will get a chance to implement LSTM cell from Scratch and Usage of Recurrent Neural Network for 1D time series Prediction task .\n",
    "\n",
    "#### **Instructions**\n",
    "1. Use Python 3.x to run this notebook\n",
    "3. Write your code only in between the lines 'YOUR CODE STARTS HERE' and 'YOUR CODE ENDS HERE'.\n",
    "you should not change anything else code cells, if you do, the answers you are supposed to get at the end of this assignment might be wrong.\n",
    "4. Read documentation of each function carefully."
   ]
  },
  {
   "cell_type": "markdown",
   "metadata": {
    "id": "GT8skzfOLu91"
   },
   "source": [
    "## Question 1:\n",
    "\n",
    "Given a sequence of values of a 1D input time series from time t = 1 to t = 5, predict the value of the time series at t = 6 using RNN.\n",
    "\n",
    "Here we trained an RNN in such a way that, given values of input time series from t = 1 to t=i ; it will predict the value at t= i+1.\n",
    "\n",
    "Hint : Design an RNN using pytorch's nn.RNN to create an RNN layer , then add a fully-connected layer to get the required output size.\n",
    "\n",
    "Choose 32 as the number of features in the RNN output and in the hidden state. Also, choose number of layers to be 1 to make up the RNN, typically such number varies depending on different tasks. The value greater than 1 means that you'll create a stacked RNN. Also, use \"batch_first =True\". Here, \"batch_first\" implies whether or not the input/output of the RNN will have the batch_size as the first dimension (batch_size, seq_length, hidden_dim). \n"
   ]
  },
  {
   "cell_type": "code",
   "execution_count": 1,
   "metadata": {
    "id": "qoVHp8ZWqYpd",
    "outputId": "a80835fa-3914-42e7-f109-bcfecda6cec6"
   },
   "outputs": [
    {
     "name": "stdout",
     "output_type": "stream",
     "text": [
      "0\n",
      "Loss:  1.5117348432540894\n",
      "Predicted Value:  [-0.18635052 -0.00746428  0.05009793  0.05678663 -0.02306957]\n",
      "True Value:  [-0.6117564  -0.5281718  -1.0729686   0.86540765 -2.3015387 ]\n",
      "11\n",
      "Loss:  0.17117467522621155\n",
      "Predicted Value:  [-1.1242571   0.01409128 -1.4364806   1.2616227  -2.4017377 ]\n",
      "True Value:  [-0.6117564  -0.5281718  -1.0729686   0.86540765 -2.3015387 ]\n",
      "22\n",
      "Loss:  0.0257004052400589\n",
      "Predicted Value:  [-0.8625432  -0.65644956 -1.2690521   0.9668686  -2.3217802 ]\n",
      "True Value:  [-0.6117564  -0.5281718  -1.0729686   0.86540765 -2.3015387 ]\n",
      "33\n",
      "Loss:  0.00878409668803215\n",
      "Predicted Value:  [-0.53372186 -0.4725641  -0.92941976  0.7992105  -2.2027938 ]\n",
      "True Value:  [-0.6117564  -0.5281718  -1.0729686   0.86540765 -2.3015387 ]\n",
      "44\n",
      "Loss:  0.006239252630621195\n",
      "Predicted Value:  [-0.53502613 -0.5857098  -1.0279086   0.72779965 -2.3336594 ]\n",
      "True Value:  [-0.6117564  -0.5281718  -1.0729686   0.86540765 -2.3015387 ]\n",
      "55\n",
      "Loss:  0.0010371545795351267\n",
      "Predicted Value:  [-0.596573   -0.5360092  -1.024904    0.86010087 -2.2509873 ]\n",
      "True Value:  [-0.6117564  -0.5281718  -1.0729686   0.86540765 -2.3015387 ]\n",
      "66\n",
      "Loss:  0.000279710948234424\n",
      "Predicted Value:  [-0.64293253 -0.52804244 -1.0787239   0.85450125 -2.3181071 ]\n",
      "True Value:  [-0.6117564  -0.5281718  -1.0729686   0.86540765 -2.3015387 ]\n",
      "Final predicted value of input time series at t=6:  -2.292928457260132\n"
     ]
    },
    {
     "name": "stderr",
     "output_type": "stream",
     "text": [
      "/home/shivashish/anaconda3/lib/python3.8/site-packages/torch/autograd/__init__.py:130: UserWarning: CUDA initialization: Found no NVIDIA driver on your system. Please check that you have an NVIDIA GPU and installed a driver from http://www.nvidia.com/Download/index.aspx (Triggered internally at  /opt/conda/conda-bld/pytorch_1607370172916/work/c10/cuda/CUDAFunctions.cpp:100.)\n",
      "  Variable._execution_engine.run_backward(\n"
     ]
    }
   ],
   "source": [
    "import torch\n",
    "from torch import nn\n",
    "import numpy as np\n",
    "import matplotlib.pyplot as plt\n",
    "import numpy as np\n",
    "%matplotlib inline\n",
    "\n",
    "\n",
    "## Fixing the seed for Reproducibility\n",
    "np.random.seed(1)\n",
    "torch.manual_seed(1)\n",
    "\n",
    "## Define 1D input time series, which spans from t= 1 to t=6.\n",
    "input_series = np.random.randn(6,1)\n",
    "\n",
    "\n",
    "class RNN(nn.Module):\n",
    "    def __init__(self, input_size, output_size, hidden_dim, n_layers):\n",
    "        super(RNN, self).__init__()\n",
    "\n",
    "        ### YOUR CODE STARTS HERE\n",
    "        self.hidden_dim = hidden_dim\n",
    "        self.n_layers = n_layers\n",
    "        \n",
    "        self.rnn = nn.RNN(input_size, hidden_dim, n_layers,batch_first=True)\n",
    "        self.fc = nn.Linear(hidden_dim, output_size)\n",
    "        \n",
    "    def forward(self, x, hidden):\n",
    "        \n",
    "        hidden = torch.zeros(self.n_layers, x.size()[0], self.hidden_dim)\n",
    "        out, hidden = self.rnn(x, hidden)\n",
    "        out = out.view(-1, self.hidden_dim)\n",
    "        out = self.fc(out)\n",
    "        return out, hidden\n",
    "        ### YOUR CODE ENDS HERE\n",
    "\n",
    "# decide on hyperparameters\n",
    "input_size=1    ## 1D input\n",
    "output_size=1   ## 1D output\n",
    "hidden_dim=32  ## Hidden state feature dimension of RNN\n",
    "n_layers=1     ## No. of stacked layers in RNN\n",
    "\n",
    "# instantiate an RNN\n",
    "rnn = RNN(input_size, output_size, hidden_dim, n_layers)\n",
    "\n",
    "# MSE loss and Adam optimizer with a learning rate of 0.01\n",
    "criterion = nn.MSELoss()\n",
    "optimizer = torch.optim.Adam(rnn.parameters(), lr=0.01)\n",
    "\n",
    "# train the RNN\n",
    "def train(rnn, n_steps, print_every):\n",
    "    \n",
    "    # initialize the hidden state\n",
    "    hidden = None      \n",
    "    \n",
    "    for batch_i, step in enumerate(range(n_steps)):\n",
    "        # defining the training data \n",
    "        x = input_series[:-1]\n",
    "        y = input_series[1:]\n",
    "        \n",
    "        # convert data into Tensors\n",
    "        x_tensor = torch.Tensor(x).unsqueeze(0) # unsqueeze gives a 1, batch_size dimension\n",
    "        y_tensor = torch.Tensor(y)\n",
    "\n",
    "        # outputs from the rnn\n",
    "        prediction, hidden = rnn(x_tensor, hidden)\n",
    "\n",
    "        ## Representing Memory ##\n",
    "        # make a new variable for hidden and detach the hidden state from its history\n",
    "        # this way, we don't backpropagate through the entire history\n",
    "        hidden = hidden.data\n",
    "\n",
    "        # calculate the loss\n",
    "        loss = criterion(prediction, y_tensor)\n",
    "        # zero gradients\n",
    "        optimizer.zero_grad()\n",
    "        # perform backprop and update weights\n",
    "        loss.backward()\n",
    "        optimizer.step()\n",
    "\n",
    "        # display loss and predictions\n",
    "        if batch_i%print_every == 0:  \n",
    "            print (batch_i)      \n",
    "            print('Loss: ', loss.item())\n",
    "            print ('Predicted Value: ', prediction.data.numpy().flatten())\n",
    "            print ('True Value: ', y_tensor.data.numpy().flatten())\n",
    "            \n",
    "    \n",
    "    return rnn,prediction[-1]\n",
    "\n",
    "# train the rnn and monitor results\n",
    "trained_rnn,final_prediction = train(rnn, n_steps = 75, print_every= 11)\n",
    "print ('Final predicted value of input time series at t=6: ',final_prediction.item())"
   ]
  },
  {
   "cell_type": "markdown",
   "metadata": {
    "id": "6zfAVRvIFjxh"
   },
   "source": [
    "## Question 2:\n",
    "\n",
    "Given a Multivariate input time sequence and all the trainable parameters of LSTM Cell; Implement all the functionalities of the LSTM cell in order to predict the hidden state and output at time=t; given LSTM \"cell state\" at previous time step (t= t-1), LSTM \"hidden state\" at previous time step ( t= t-1) and the input at time=t. Hint : Follow the following sets of equation for implementing the functionality of LSTM Cell.\n",
    "\n",
    "Forget GATE: $f_{t} = \\sigma(W_{f}[ a_{t-1} ; x_{t}]  + b_{f}) $ (Note that \";\" denotes contatenation operation.)\n",
    "\n",
    "Update GATE: $i_{t} = \\sigma(W_{i}[ a_{t-1} ; x_{t} ] + b_i )$\n",
    "\n",
    "Memory GATE: $\\tilde{c}_{t} = tanh(W_c[ a_{t-1} ; x_{t} ] + b_c )$\n",
    "            update step -> $c_{t} =  f_{t} * c_{t-1} + i_{t} * \\tilde{c}_{t}$  (This operation determines how much information to keep from past and how much to add from current step information)\n",
    "\n",
    "Output GATE: $o_{t} = \\sigma(W_o [ a_{t-1} ; x_{t} ] + b_o)$\n",
    "           Final Output: $a_{t} = o_{t}*tanh(c_t) $\n",
    "( Note: For implementing \"tanh\" operation; use numpy.tanh libary function)\n",
    "\n",
    "\n",
    "a> Compute the value of a specific component of LSTM cell \"Output\" (y), i.e. y[1, 3, 4]? \n",
    "\n",
    "b> Also find the value of a specific component of LSTM hidden state output(a) ; i.e. a[2,1,5].\n",
    "\n",
    "\n"
   ]
  },
  {
   "cell_type": "code",
   "execution_count": 2,
   "metadata": {
    "colab": {
     "base_uri": "https://localhost:8080/"
    },
    "id": "FOok6KSeaJ1o",
    "outputId": "9e8e0c07-87af-4aa1-e18a-73867dc6539a"
   },
   "outputs": [
    {
     "name": "stdout",
     "output_type": "stream",
     "text": [
      "y[1][3][4] = 0.2108386642115146\n",
      "y.shape =  (2, 10, 7)\n",
      "a[2][1][5] =  0.023019435434183624\n",
      "a.shape =  (5, 10, 7)\n"
     ]
    }
   ],
   "source": [
    "\n",
    "import numpy as np\n",
    "np.random.seed(2)\n",
    "\n",
    "## Function implements Sigmoid Activation\n",
    "def sigmoid(x):\n",
    "    return 1 / (1 + np.exp(-x))\n",
    "\n",
    "## Function implements Softmax Activation\n",
    "def softmax(x):\n",
    "    e_x = np.exp(x - np.max(x))\n",
    "    return e_x / e_x.sum(axis=0)\n",
    "\n",
    "## Function implements LSTM \"forward pass\" of a single time step..i.e. given x at time step t, hidden state \n",
    "##at previous time step Memory state at previous time step , this function computes predicted output y at time step t. \n",
    "\n",
    "def lstm_forward_pass(xt, a_prev, c_prev, parameters):\n",
    "    \"\"\"\n",
    "    Implement a single forward step of the LSTM-cell \n",
    "\n",
    "    Arguments:\n",
    "    xt -- your input data at timestep \"t\"\n",
    "    a_prev -- Hidden state at timestep \"t-1\"\n",
    "    c_prev -- Memory state at timestep \"t-1\"\n",
    "\n",
    "    # Trainable Parameters of a LSTM cell\n",
    "    Wf -- Weight matrix of the forget gate; bf -- Bias of the forget gate\n",
    "    Wi -- Weight matrix of the update gate; bi -- Bias of the update gate\n",
    "    Wc -- Weight matrix of the first \"tanh\"; bc --  Bias of the first \"tanh\"\n",
    "    Wo -- Weight matrix of the output gate; bo --  Bias of the output gate\n",
    "    Wy -- Weight matrix relating the hidden-state to the output; by -- Bias relating the hidden-state to the output\n",
    "                        \n",
    "    The LSTM Cell MUST Returns:\n",
    "    a_next -- next hidden state\n",
    "    c_next -- next memory state\n",
    "    yt_pred -- LSTM output prediction at timestep \"t\"\n",
    "    cache -- tuple of values needed for the backward pass, contains (a_next, c_next, a_prev, c_prev, xt, parameters)\n",
    "    Note: ft/it/ot stand for the forget/update/output gates, cct stands for the candidate value (c tilde),\n",
    "          c stands for the memory value\n",
    "    \"\"\"\n",
    "\n",
    "    # Retrieve parameters from \"parameters\"\n",
    "    Wf = parameters[\"Wf\"]; bf = parameters[\"bf\"]\n",
    "    Wi = parameters[\"Wi\"]; bi = parameters[\"bi\"]\n",
    "    Wc = parameters[\"Wc\"]; bc = parameters[\"bc\"]\n",
    "    Wo = parameters[\"Wo\"]; bo = parameters[\"bo\"]\n",
    "    Wy = parameters[\"Wy\"]; by = parameters[\"by\"]\n",
    "    \n",
    "    # Retrieve dimensions from shapes of xt and Wy\n",
    "    n_x, m = xt.shape\n",
    "    n_y, n_a = Wy.shape\n",
    "\n",
    "    ### YOUR CODE STARTS HERE ###\n",
    "    \n",
    "    ft = sigmoid(np.dot(Wf,np.row_stack((a_prev,xt)))+bf)\n",
    "    it = sigmoid(np.dot(Wi,np.row_stack((a_prev,xt)))+bi)\n",
    "    ot = sigmoid(np.dot(Wo,np.row_stack((a_prev,xt)))+bo)\n",
    "    \n",
    "    cct = np.tanh(np.dot(Wc,np.row_stack((a_prev,xt)))+bc)\n",
    "    \n",
    "    c_next = ft*c_prev+it*cct\n",
    "    a_next = ot*np.tanh(c_next)\n",
    "    \n",
    "    yt = np.dot(Wy,a_next)+by\n",
    "    yt_pred = softmax(yt)\n",
    "    ### YOUR CODE ENDS HERE ###\n",
    "\n",
    "    # store values needed for backward propagation in cache\n",
    "    cache = (a_next, c_next, a_prev, c_prev, ft, it, cct, ot, xt, parameters)\n",
    "\n",
    "    return a_next, c_next, yt_pred, cache\n",
    "\n",
    "def lstm_forward(x, a0, parameters):\n",
    "    \"\"\"\n",
    "    Implement the forward propagation of the recurrent neural network using an LSTM-cell.\n",
    "\n",
    "    Arguments:\n",
    "    x -- Input data for every time-step\n",
    "    a0 -- Initial hidden state of LSTM cell\n",
    "    parameters \n",
    "    Wf -- Weight matrix of the forget gate ;bf -- Bias of the forget gate\n",
    "    Wi -- Weight matrix of the update gate ;bi -- Bias of the update gate\n",
    "    Wc -- Weight matrix of the first \"tanh\";bc -- Bias of the first \"tanh\"\n",
    "    Wo -- Weight matrix of the output gate; bo -- Bias of the output gate\n",
    "    Wy -- Weight matrix relating the hidden-state to the output; by -- Bias relating the hidden-state to the output\n",
    "                        \n",
    "    This Function call MUST Returns:\n",
    "    a -- Hidden states for every time-step, numpy array of shape (n_a, m, T_x)\n",
    "    y -- Predictions for every time-step, numpy array of shape (n_y, m, T_x)\n",
    "    c -- Memory states for every time-step\n",
    "    caches -- tuple of values needed for the backward pass, contains (list of all the caches, x)\n",
    "    \"\"\"\n",
    "\n",
    "    # Initialize \"caches\", which will track the list of all the caches\n",
    "    caches = []\n",
    "    \n",
    "    ### YOUR CODE STARTS HERE ###\n",
    "\n",
    "    a_prev = a0\n",
    "    c_prev = np.zeros(a0.shape)\n",
    "    input_dim, batch_size, seq_siz = x.shape\n",
    "    shap1, shap2 = parameters['Wy'].shape\n",
    "    a = np.zeros([shap2,batch_size, seq_siz])\n",
    "    c = np.zeros([shap2,batch_size, seq_siz])\n",
    "    y = np.zeros([shap1,batch_size, seq_siz])\n",
    "    for i in range(seq_siz):\n",
    "        xt = x[:,:,i]\n",
    "        a_next, c_next, yt_pred, cache = lstm_forward_pass(xt, a_prev, c_prev, parameters)\n",
    "        \n",
    "        a_prev = a_next\n",
    "        c_prev = c_next\n",
    "        \n",
    "        a[:,:,i] = a_next\n",
    "        y[:,:,i] = yt_pred\n",
    "        c[:,:,i] = c_next\n",
    "        caches.append(cache)\n",
    "        \n",
    "    ### YOUR CODE ENDS HERE ###\n",
    "\n",
    "    # store values needed for backward propagation in cache\n",
    "    caches = (caches, x)\n",
    "    \n",
    "\n",
    "    return a, y, c, caches\n",
    "\n",
    "# Input time sequence\n",
    "x = np.random.randn(3,10,7)\n",
    "\n",
    "# Initial Hidden state of LSTM\n",
    "a0 = np.random.randn(5,10)\n",
    "\n",
    "# Weight and Bias Parameters of FORGET gate\n",
    "Weight_f = np.random.randn(5, 8); bias_f = np.random.randn(5,1)\n",
    "\n",
    "# Weight and Bias Parameters of UPDATE gate\n",
    "Weight_i = np.random.randn(5, 8); bias_i = np.random.randn(5,1)\n",
    "\n",
    "# Weight and Bias Parameters of OUTPUT gate\n",
    "Weight_o = np.random.randn(5, 8); bias_o = np.random.randn(5,1)\n",
    "\n",
    "# Weight and Bias Parameters of MEMORY gate (updating the cell)\n",
    "Weight_c = np.random.randn(5, 8); bias_c = np.random.randn(5,1)\n",
    "\n",
    "# Weight and bias for transforming hidden state output to final LSTM output for downstream application\n",
    "Weight_y = np.random.randn(2,5); bias_y = np.random.randn(2,1)\n",
    "\n",
    "LSTM_parameters = {\"Wf\": Weight_f, \"Wi\": Weight_i, \"Wo\": Weight_o, \"Wc\": Weight_c, \"Wy\": Weight_y, \"bf\": bias_f, \"bi\": bias_i, \"bo\": bias_o, \"bc\": bias_c, \"by\": bias_y}\n",
    "\n",
    "a, y, c, caches = lstm_forward(x, a0, LSTM_parameters)\n",
    "\n",
    "## Print the specific component value of LSTM cell \"Output\" (y) ;i.e. y[1,3,4]\n",
    "print(\"y[1][3][4] =\", y[1][3][4])\n",
    "print(\"y.shape = \", y.shape)\n",
    "\n",
    "## Print the specific component value of LSTM \"hidden state\" Output (a) ;i.e. a[2,1,5]\n",
    "print(\"a[2][1][5] = \", a[2][1][5])\n",
    "print(\"a.shape = \", a.shape)"
   ]
  },
  {
   "cell_type": "markdown",
   "metadata": {
    "id": "2SQRxSU9Tkwx"
   },
   "source": [
    "## Question 3:\n",
    "\n",
    "Time series prediction using recurrent models. \n",
    "\n",
    "Use the airline-passengers.csv file for this task.\n",
    "\n"
   ]
  },
  {
   "cell_type": "code",
   "execution_count": 3,
   "metadata": {
    "id": "5e5Athrzw-DA",
    "outputId": "4c7381a9-d4d7-46c6-bdf1-96ef0aa43a11"
   },
   "outputs": [
    {
     "data": {
      "image/png": "[encoded data removed]",
      "text/plain": [
       "<Figure size 432x288 with 1 Axes>"
      ]
     },
     "metadata": {
      "needs_background": "light"
     },
     "output_type": "display_data"
    }
   ],
   "source": [
    "import numpy as np\n",
    "import matplotlib.pyplot as plt\n",
    "import pandas as pd\n",
    "import torch\n",
    "import torch.nn as nn\n",
    "from torch.autograd import Variable\n",
    "from sklearn.preprocessing import MinMaxScaler\n",
    "\n",
    "training_set = pd.read_csv('airline-passengers.csv')\n",
    "#training_set = pd.read_csv('shampoo.csv')\n",
    "\n",
    "training_set = training_set.iloc[:,1:2].values\n",
    "\n",
    "#plt.plot(training_set, label = 'Shampoo Sales Data')\n",
    "plt.plot(training_set, label = 'Airline Passangers Data')\n",
    "plt.show()"
   ]
  },
  {
   "cell_type": "markdown",
   "metadata": {
    "id": "_qo-Bn3vxGvD"
   },
   "source": [
    "## Prepare the training and testing dataset.\n"
   ]
  },
  {
   "cell_type": "code",
   "execution_count": 4,
   "metadata": {
    "id": "ZCFod5yYxQXt"
   },
   "outputs": [],
   "source": [
    "def sliding_windows(data, seq_length):\n",
    "    x = []\n",
    "    y = []\n",
    "\n",
    "    for i in range(len(data)-seq_length-1):\n",
    "        _x = data[i:(i+seq_length)]\n",
    "        _y = data[i+seq_length]\n",
    "        x.append(_x)\n",
    "        y.append(_y)\n",
    "\n",
    "    return np.array(x),np.array(y)\n",
    "\n",
    "sc = MinMaxScaler()\n",
    "training_data = sc.fit_transform(training_set)\n",
    "\n",
    "seq_length = 4\n",
    "x, y = sliding_windows(training_data, seq_length)\n",
    "\n",
    "train_size = int(len(y) * 0.67)\n",
    "test_size = len(y) - train_size\n",
    "\n",
    "dataX = Variable(torch.Tensor(np.array(x)))\n",
    "dataY = Variable(torch.Tensor(np.array(y)))\n",
    "\n",
    "trainX = Variable(torch.Tensor(np.array(x[0:train_size])))\n",
    "trainY = Variable(torch.Tensor(np.array(y[0:train_size])))\n",
    "\n",
    "testX = Variable(torch.Tensor(np.array(x[train_size:len(x)])))\n",
    "testY = Variable(torch.Tensor(np.array(y[train_size:len(y)])))\n"
   ]
  },
  {
   "cell_type": "markdown",
   "metadata": {
    "id": "6-fbsv6_xVhu"
   },
   "source": [
    "## Create the model"
   ]
  },
  {
   "cell_type": "code",
   "execution_count": 5,
   "metadata": {
    "id": "KC_5L1NIxUsR"
   },
   "outputs": [],
   "source": [
    "class LSTM(nn.Module):\n",
    "\n",
    "    def __init__(self, num_classes, input_size, hidden_size, num_layers):\n",
    "        super(LSTM, self).__init__()\n",
    "        \n",
    "        self.num_classes = num_classes\n",
    "        self.num_layers = num_layers\n",
    "        self.input_size = input_size\n",
    "        self.hidden_size = hidden_size\n",
    "        self.seq_length = seq_length\n",
    "\n",
    "        # Your code goes here\n",
    "        # define a lstm block and a fc block\n",
    "        self.lstm = nn.LSTM(input_size, hidden_size,num_layers,batch_first=True)\n",
    "        self.fc = nn.Linear(hidden_size, num_classes)\n",
    "\n",
    "    def forward(self, x):\n",
    "       \n",
    "        # Your code goes here\n",
    "        # Define a forward function for the LSTM block\n",
    "        hidden = Variable(torch.zeros(self.num_layers, x.size()[0], self.hidden_size))\n",
    "        cell = Variable(torch.zeros(self.num_layers, x.size()[0], self.hidden_size))\n",
    "        \n",
    "        output, (h_out, c_out) = self.lstm(x, (hidden, cell))\n",
    "        \n",
    "        h_out = h_out.view(-1, self.hidden_size)\n",
    "        \n",
    "        out = self.fc(h_out)\n",
    "        \n",
    "        return out"
   ]
  },
  {
   "cell_type": "markdown",
   "metadata": {
    "id": "sQKOnThFxxuJ"
   },
   "source": [
    "## Training"
   ]
  },
  {
   "cell_type": "code",
   "execution_count": 6,
   "metadata": {
    "id": "vlj9F1Z6xxFR",
    "outputId": "7ffd96e4-c8b7-46a6-b599-e34290da9ddf"
   },
   "outputs": [
    {
     "name": "stdout",
     "output_type": "stream",
     "text": [
      "Epoch: 0, loss: 0.06601\n",
      "Epoch: 100, loss: 0.00327\n",
      "Epoch: 200, loss: 0.00249\n",
      "Epoch: 300, loss: 0.00200\n",
      "Epoch: 400, loss: 0.00180\n",
      "Epoch: 500, loss: 0.00172\n",
      "Epoch: 600, loss: 0.00170\n",
      "Epoch: 700, loss: 0.00168\n",
      "Epoch: 800, loss: 0.00168\n",
      "Epoch: 900, loss: 0.00167\n",
      "Epoch: 1000, loss: 0.00167\n",
      "Epoch: 1100, loss: 0.00167\n",
      "Epoch: 1200, loss: 0.00166\n",
      "Epoch: 1300, loss: 0.00166\n",
      "Epoch: 1400, loss: 0.00166\n",
      "Epoch: 1500, loss: 0.00166\n",
      "Epoch: 1600, loss: 0.00166\n",
      "Epoch: 1700, loss: 0.00165\n",
      "Epoch: 1800, loss: 0.00164\n",
      "Epoch: 1900, loss: 0.00164\n"
     ]
    }
   ],
   "source": [
    "num_epochs = 2000\n",
    "learning_rate = 0.01\n",
    "\n",
    "input_size = 1\n",
    "hidden_size = 2\n",
    "num_layers = 1\n",
    "\n",
    "num_classes = 1\n",
    "\n",
    "lstm = LSTM(num_classes, input_size, hidden_size, num_layers)\n",
    "\n",
    "criterion = torch.nn.MSELoss()    # mean-squared error for regression\n",
    "optimizer = torch.optim.Adam(lstm.parameters(), lr=learning_rate)\n",
    "#optimizer = torch.optim.SGD(lstm.parameters(), lr=learning_rate)\n",
    "\n",
    "# Train the model\n",
    "for epoch in range(num_epochs):\n",
    "\n",
    "    # Your code goes here\n",
    "    # define a training iteration to the lstm model. Use loss variable to compute the training loss\n",
    "    optimizer.zero_grad()\n",
    "\n",
    "    y_pred = lstm(trainX)\n",
    "\n",
    "    # obtain the loss function\n",
    "    loss = criterion(y_pred, trainY)\n",
    "    \n",
    "    loss.backward()\n",
    "    optimizer.step()\n",
    "\n",
    "    if epoch % 100 == 0:\n",
    "      print(\"Epoch: %d, loss: %1.5f\" % (epoch, loss.item()))"
   ]
  },
  {
   "cell_type": "markdown",
   "metadata": {
    "id": "gF0UsfR8yFrO"
   },
   "source": [
    "## Test and Visualize the results. \n",
    "Plot the output of time series similar to the data plot above."
   ]
  },
  {
   "cell_type": "code",
   "execution_count": 7,
   "metadata": {
    "id": "y7-eERYByJ3O",
    "outputId": "38c6365d-1711-4e25-e558-e3539bac6557"
   },
   "outputs": [
    {
     "data": {
      "image/png": "[encoded data removed]",
      "text/plain": [
       "<Figure size 432x288 with 1 Axes>"
      ]
     },
     "metadata": {
      "needs_background": "light"
     },
     "output_type": "display_data"
    }
   ],
   "source": [
    "lstm.eval()\n",
    "y_pred = lstm(testX)\n",
    "\n",
    "y_pred = y_pred.data.numpy()\n",
    "y_pred = sc.inverse_transform(y_pred)\n",
    "\n",
    "y_actual = testY.data.numpy()\n",
    "y_actual = sc.inverse_transform(y_actual)\n",
    "\n",
    "plt.plot(y_actual)\n",
    "plt.plot(y_pred)\n",
    "plt.show()"
   ]
  },
  {
   "cell_type": "markdown",
   "metadata": {
    "id": "OPTjxV0G6g8X"
   },
   "source": [
    "#### **Welcome to Assignment 4 (part-2) on Deep Learning for Computer Vision.**\n",
    "This question consists of two subsection. In subsection-1 you'll have to code a Siamese Network, for subsection-2 you need to go through a official PyTorch tutorial on Object Detection, understand it and answer some questions.\n",
    "  \n",
    "#### **Instructions**\n",
    "1. Use Python 3.x to run this notebook\n",
    "2. Write your code only in between the lines 'YOUR CODE STARTS HERE' and 'YOUR CODE ENDS HERE'.\n",
    "you should not change anything else in the code cells, if you do, the answers you are supposed to get at the end of this assignment might be wrong.\n",
    "3. Read documentation of each function carefully.\n",
    "4. All the Best!"
   ]
  },
  {
   "cell_type": "code",
   "execution_count": null,
   "metadata": {
    "id": "tJwH6jxrqI-5"
   },
   "outputs": [],
   "source": [
    "import numpy as np\n",
    "import torch\n",
    "import torch.nn as nn\n",
    "import torch.optim as optim\n",
    "from torchvision import datasets, transforms\n",
    "import torch.nn.functional as F\n",
    "from torch.utils.data import Dataset\n",
    "from torch.utils.data.sampler import BatchSampler\n",
    "from torch.optim import lr_scheduler\n",
    "from PIL import Image\n",
    "import timeit\n",
    "\n",
    "## Please DONOT remove these lines. \n",
    "torch.manual_seed(0)\n",
    "torch.backends.cudnn.deterministic = True\n",
    "torch.backends.cudnn.benchmark = False\n",
    "np.random.seed(0)\n",
    "########################\n",
    "\n",
    "#### YOUR CODE STARTS HERE ####\n",
    "# Check availability of GPU and set the device accordingly\n",
    "device = torch.device(\"cuda\" if torch.cuda.is_available() else \"cpu\")\n",
    "#### YOUR CODE ENDS HERE ####\n"
   ]
  },
  {
   "cell_type": "markdown",
   "metadata": {
    "id": "nhSvcqdYqJ6U"
   },
   "source": [
    "#### Prepare the dataset for Siamese Network"
   ]
  },
  {
   "cell_type": "code",
   "execution_count": null,
   "metadata": {
    "id": "stYbGPoLqzDE"
   },
   "outputs": [],
   "source": [
    "class SiameseDataset(Dataset):\n",
    "    def __init__(self, train=True):\n",
    "        \n",
    "        self.train = train\n",
    "        #### YOUR CODE STARTS HERE ####\n",
    "        # Define a set of transforms for preparing the dataset\n",
    "        self.transform =  transforms.Compose([transforms.ToTensor(),transforms.Normalize((0.1307,), (0.3081,))])\n",
    "                            # convert the image to a pytorch tensor\n",
    "                          # normalise the images with mean and std of the dataset\n",
    "        \n",
    "        # Load the MNIST training, test datasets using `torchvision.datasets.MNIST\n",
    "        # Set the train parameter to self.train and transform parameter to self.transform\n",
    "\n",
    "        !wget www.di.ens.fr/~lelarge/MNIST.tar.gz\n",
    "        !tar -zxvf MNIST.tar.gz\n",
    "\n",
    "        self.dataset = datasets.MNIST('./', train=self.train, download=True,transform=self.transform)\n",
    "\n",
    "        #### YOUR CODE ENDS HERE ####\n",
    "        if self.train:\n",
    "            #### YOUR CODE STARTS HERE ####\n",
    "            # assign input (x-values) of training data \n",
    "            self.train_data = self.dataset.train_data\n",
    "            # assign labels of training data \n",
    "            self.train_labels = self.dataset.train_labels\n",
    "            # get the set of all the labels in the dataset\n",
    "            self.labels_all = set(self.train_labels.numpy())\n",
    "            self.label_to_idx = {elem: np.where(self.train_labels.numpy() == elem)[0] for elem in self.labels_all}  # assign a unique index to all labels in the dataset and store them in a dictionary \n",
    "\n",
    "            #### YOUR CODE ENDS HERE ####\n",
    "        else:\n",
    "            #### YOUR CODE STARTS HERE ####\n",
    "            # assign input (x-values) of test data \n",
    "            self.test_data = self.dataset.test_data\n",
    "            # assign labels of test data \n",
    "            self.test_labels = self.dataset.test_labels\n",
    "            # get the set of all the labels in the dataset\n",
    "            self.labels_all = set(self.test_labels.numpy())\n",
    "            self.label_to_idx = {elem: np.where(self.test_labels.numpy() == elem)[0] for elem in self.labels_all} # assign a unique index to all labels in the dataset and store them in a dictionary \n",
    "\n",
    "            #### YOUR CODE ENDS HERE ####\n",
    "            # DONOT change this line of code  \n",
    "            random_state = np.random.RandomState(0)\n",
    "\n",
    "            positive_samples = [] # this will be a list of lists\n",
    "            for ind in range(0, len(self.test_data), 2):\n",
    "              positive_samples.append([ind, random_state.choice(self.label_to_idx[self.test_labels[ind].item()]), 1])\n",
    "            \n",
    "            negative_samples = []\n",
    "            for ind in range(1, len(self.test_data), 2):\n",
    "              negative_samples.append([ind, random_state.choice(self.label_to_idx[np.random.choice(\n",
    "                                                           list(self.labels_all - set([self.test_labels[ind].item()])))]), 0])\n",
    "            \n",
    "            # combine both positive and negative samples into a single variable\n",
    "            #### YOUR CODE STARTS HERE ####\n",
    "            self.test_samples = positive_samples + negative_samples\n",
    "            #### YOUR CODE ENDS HERE ####\n",
    "    def __len__(self):\n",
    "        return len(self.dataset)\n",
    "\n",
    "    def __getitem__(self, index):\n",
    "        # get image pair, and the associated label (1 for similar, 0 for dissimilar)\n",
    "        if self.train:\n",
    "            #### YOUR CODE STARTS HERE ####\n",
    "            # choose if training sample is similar or dissimilar\n",
    "            target = np.random.randint(0, 2)\n",
    "            # choose two images call them `first_image` and `second_image`\n",
    "            first_image = self.train_data[index]\n",
    "            first_label = self.train_labels[index].item()\n",
    "            if target == 1:\n",
    "                while True:\n",
    "                    second_index = np.random.choice(self.label_to_idx[first_label])\n",
    "                    if second_index != index:\n",
    "                      break\n",
    "            else:\n",
    "                second_label = np.random.choice(list(self.labels_all - set([first_label])))\n",
    "                second_index = np.random.choice(self.label_to_idx[second_label])\n",
    "            second_image = self.train_data[second_index]\n",
    "            #### YOUR CODE ENDS HERE ####\n",
    "        else:\n",
    "            #### YOUR CODE STARTS HERE ####\n",
    "            # select two images from self.test_samples, call them `first_image` and `second_image`\n",
    "            first_image = self.test_data[self.test_samples[index][0]]\n",
    "            second_image = self.test_data[self.test_samples[index][1]]\n",
    "            target = self.test_samples[index][2]\n",
    "            #### YOUR CODE ENDS HERE ####\n",
    "        \n",
    "        first_image = Image.fromarray(first_image.numpy(), mode='L')\n",
    "        second_image = Image.fromarray(second_image.numpy(), mode='L')\n",
    "        first_image = self.transform(first_image)\n",
    "        second_image = self.transform(second_image)\n",
    "        return (first_image, second_image), target\n"
   ]
  },
  {
   "cell_type": "code",
   "execution_count": null,
   "metadata": {
    "id": "9gEE-dEarnvg"
   },
   "outputs": [],
   "source": [
    "class EmbeddingNet(nn.Module):\n",
    "    def __init__(self):\n",
    "        super(EmbeddingNet, self).__init__()\n",
    "        #### YOUR CODE STARTS HERE ####\n",
    "        # Define a sequential block as per the instructions below:\n",
    "        # Build three blocks with each block containing: Conv->PReLU->Maxpool layers\n",
    "        # Three conv layers should have 16, 32, 64 output channels respectively\n",
    "        # Use convolution kernel size 3\n",
    "        # For maxpool use a kernel size of 2 and stride of 2\n",
    "\n",
    "        self.convnet = nn.Sequential(nn.Conv2d(1, 16, 3), nn.PReLU(),nn.MaxPool2d(2, stride=2),\n",
    "                                     nn.Conv2d(16, 32, 3), nn.PReLU(),nn.MaxPool2d(2, stride=2),\n",
    "                                     nn.Conv2d(32, 64, 3), nn.PReLU(),nn.MaxPool2d(2, stride=2))\n",
    "\n",
    "\n",
    "        # Define linear->PReLU->linear->PReLU->linear\n",
    "        # The first two linear layers should have 256 and 128 output nodes\n",
    "        # The final FC layer should have 2 nodes\n",
    "        self.fc = nn.Sequential(nn.Linear(64*1*1, 256),\n",
    "                                nn.PReLU(),\n",
    "                                nn.Linear(256, 128),\n",
    "                                nn.PReLU(),\n",
    "                                nn.Linear(128, 2)\n",
    "                                )\n",
    "\n",
    "        #### YOUR CODE ENDS HERE ####\n",
    "\n",
    "    def forward(self, x):\n",
    "      #### YOUR CODE STARTS HERE ####\n",
    "        # Define the forward pass, convnet -> fc\n",
    "        output = self.convnet(x)\n",
    "        output = output.view(output.size()[0], -1)\n",
    "        output = self.fc(output)\n",
    "        #### YOUR CODE ENDS HERE ####\n",
    "        return output"
   ]
  },
  {
   "cell_type": "code",
   "execution_count": null,
   "metadata": {
    "id": "JPIClNjsrz78"
   },
   "outputs": [],
   "source": [
    "class SiameseNetwork(nn.Module):\n",
    "    def __init__(self, embedding_net):\n",
    "        super(SiameseNetwork, self).__init__()\n",
    "        self.embedding_net = embedding_net\n",
    "\n",
    "    def forward(self, x1, x2):\n",
    "        # Call the embedding network for both the inputs and return the output\n",
    "        #### YOUR CODE ENDS HERE ####\n",
    "        op1 = self.embedding_net(x1)\n",
    "        op2 = self.embedding_net(x2)\n",
    "        #### YOUR CODE ENDS HERE ####\n",
    "        return op1, op2"
   ]
  },
  {
   "cell_type": "markdown",
   "metadata": {
    "id": "nzlZzVgmM3hC"
   },
   "source": [
    "Pairwise contrastive loss\n",
    "$$\n",
    "L\\left(x_{0}, x_{1}, y\\right)=\\frac{1}{2} y\\left\\|f\\left(x_{0}\\right)-f\\left(x_{1}\\right)\\right\\|_{2}^{2}+\\frac{1}{2}(1-y)\\left\\{\\max (0, m-\\sqrt{\\|f(x_{0})-f(x_{1})\\|_{2}^{2} + \\epsilon)})\\right\\}^{2}\n",
    "$$"
   ]
  },
  {
   "cell_type": "code",
   "execution_count": null,
   "metadata": {
    "id": "BclsdWZSr4RK"
   },
   "outputs": [],
   "source": [
    "class ContrastiveLossSiamese(nn.Module):\n",
    "\n",
    "    def __init__(self, margin):\n",
    "        super(ContrastiveLossSiamese, self).__init__()\n",
    "        self.margin = margin\n",
    "        self.eps = 1e-9\n",
    "\n",
    "    def forward(self, output1, output2, target):\n",
    "        # Use the equation mentioned above to define the loss\n",
    "        #### YOUR CODE STARTS HERE ####\n",
    "        dist = F.pairwise_distance(output1, output2)\n",
    "        dist = torch.pow(dist, 2)\n",
    "        loss_value = 0.5*target* dist + 0.5*(1-target) * torch.pow(torch.clamp(self.margin - torch.sqrt(dist+self.eps),min=0.0), 2)\n",
    "        #### YOUR CODE ENDS HERE ####\n",
    "        loss_value = loss_value.mean()\n",
    "\n",
    "        return loss_value"
   ]
  },
  {
   "cell_type": "code",
   "execution_count": null,
   "metadata": {
    "id": "ZVrUkFLmca1I"
   },
   "outputs": [],
   "source": [
    "#these lists are used for plotting the graph\n",
    "graph_test_loss = []\n",
    "graph_train_loss = []\n",
    "graph_epoch = [1,2,3,4]\n",
    "\n",
    "def train(model, train_loader, device, optimizer, criterion, epoch):\n",
    "    model.train()\n",
    "    losses = []\n",
    "    total_loss = 0\n",
    "\n",
    "    for batch_idx, (data, target) in enumerate(train_loader):\n",
    "        target = target if len(target) > 0 else None\n",
    "        #### YOUR CODE STARTS HERE ####\n",
    "        # send the image, target to the device\n",
    "        # data is not a single value here,\n",
    "        # ensure datatype of variable `data` is tuple\n",
    "        data = tuple(elem.to(device) for elem in data)\n",
    "        target = target.to(device)\n",
    "        # flush out the gradients stored in optimizer\n",
    "        optimizer.zero_grad() \n",
    "        # pass the image to the model and assign the output to variable named outputs\n",
    "        # python star operator will be useful here\n",
    "        # if the datatype of outputs is not a tuple, make it to a tuple\n",
    "\n",
    "        outputs = model(*data)\n",
    "\n",
    "        # create inputs to the contrastive loss (datatype should be tuple)\n",
    "        # calculate the loss using criterion \n",
    "        loss_inputs = outputs\n",
    "        target = (target,)\n",
    "        loss_inputs += target\n",
    "        loss = criterion(*loss_inputs)\n",
    "        # append the loss to losses list and update the total_loss variable\n",
    "        losses.append(loss.item())\n",
    "        total_loss += loss.item()\n",
    "        # do a backward pass\n",
    "        loss.backward()\n",
    "        # update the weights\n",
    "        optimizer.step()\n",
    "        #### YOUR CODE ENDS HERE ####\n",
    "\n",
    "        if batch_idx % 20 == 0:\n",
    "            print('Train Epoch: {} [{}/{} ({:.0f}%)]\\tLoss: {:.6f}'.format(\n",
    "                epoch, batch_idx * len(data[0]), len(train_loader.dataset),\n",
    "                100. * batch_idx / len(train_loader), np.mean(losses)))  \n",
    "    total_loss /= (batch_idx + 1)\n",
    "    graph_train_loss.append(total_loss)\n",
    "    print('Average loss on training set: {:.6f}'.format(total_loss))\n",
    "\n",
    "def test(model, test_loader, device, criterion):\n",
    "    model.eval()\n",
    "    test_loss = 0\n",
    "    with torch.no_grad():\n",
    "        for batch_idx, (data, target) in enumerate(test_loader):\n",
    "          target = target if len(target) > 0 else None\n",
    "          #### YOUR CODE STARTS HERE ####\n",
    "          # send the image, target to the device\n",
    "          # data is not a single value here,\n",
    "          # ensure datatype of variable `data` is tuple\n",
    "          data = tuple(elem.to(device) for elem in data)\n",
    "          target = target.to(device)\n",
    "          # pass the image to the model and assign the output to variable named outputs\n",
    "          # python star operator will be useful here\n",
    "          # if the datatype of outputs is not a tuple, make it to a tuple\n",
    "          outputs = model(*data)\n",
    "\n",
    "          # create inputs to the contrastive loss\n",
    "          # datatype of target should be tuple\n",
    "          # calculate the loss\n",
    "          loss_input = outputs + (target,)\n",
    "          loss = criterion(*loss_input)\n",
    "          # update the test_loss variable\n",
    "          test_loss += loss.item()\n",
    "          #### YOUR CODE ENDS HERE ####\n",
    "\n",
    "    test_loss /= len(test_loader)\n",
    "    graph_test_loss.append(test_loss)\n",
    "    print('Average loss on test set: {:.6f}'.format(test_loss))\n"
   ]
  },
  {
   "cell_type": "code",
   "execution_count": null,
   "metadata": {
    "colab": {
     "base_uri": "https://localhost:8080/"
    },
    "id": "aDZAVVWVcAC5",
    "outputId": "0a06d0de-e7ea-43a3-8731-9a2cadad6f8b"
   },
   "outputs": [
    {
     "name": "stdout",
     "output_type": "stream",
     "text": [
      "--2021-04-01 08:31:46--  http://www.di.ens.fr/~lelarge/MNIST.tar.gz\n",
      "Resolving www.di.ens.fr (www.di.ens.fr)... 129.199.99.14\n",
      "Connecting to www.di.ens.fr (www.di.ens.fr)|129.199.99.14|:80... connected.\n",
      "HTTP request sent, awaiting response... 302 Found\n",
      "Location: https://www.di.ens.fr/~lelarge/MNIST.tar.gz [following]\n",
      "--2021-04-01 08:31:46--  https://www.di.ens.fr/~lelarge/MNIST.tar.gz\n",
      "Connecting to www.di.ens.fr (www.di.ens.fr)|129.199.99.14|:443... connected.\n",
      "HTTP request sent, awaiting response... 200 OK\n",
      "Length: unspecified [application/x-gzip]\n",
      "Saving to: ‘MNIST.tar.gz.2’\n",
      "\n",
      "MNIST.tar.gz.2          [     <=>            ]  33.20M  36.0MB/s    in 0.9s    \n",
      "\n",
      "2021-04-01 08:31:47 (36.0 MB/s) - ‘MNIST.tar.gz.2’ saved [34813078]\n",
      "\n",
      "MNIST/\n",
      "MNIST/raw/\n",
      "MNIST/raw/train-labels-idx1-ubyte\n",
      "MNIST/raw/t10k-labels-idx1-ubyte.gz\n",
      "MNIST/raw/t10k-labels-idx1-ubyte\n",
      "MNIST/raw/t10k-images-idx3-ubyte.gz\n",
      "MNIST/raw/train-images-idx3-ubyte\n",
      "MNIST/raw/train-labels-idx1-ubyte.gz\n",
      "MNIST/raw/t10k-images-idx3-ubyte\n",
      "MNIST/raw/train-images-idx3-ubyte.gz\n",
      "MNIST/processed/\n",
      "MNIST/processed/training.pt\n",
      "MNIST/processed/test.pt\n"
     ]
    },
    {
     "name": "stderr",
     "output_type": "stream",
     "text": [
      "/usr/local/lib/python3.7/dist-packages/torchvision/datasets/mnist.py:64: UserWarning: train_data has been renamed data\n",
      "  warnings.warn(\"train_data has been renamed data\")\n",
      "/usr/local/lib/python3.7/dist-packages/torchvision/datasets/mnist.py:54: UserWarning: train_labels has been renamed targets\n",
      "  warnings.warn(\"train_labels has been renamed targets\")\n"
     ]
    },
    {
     "name": "stdout",
     "output_type": "stream",
     "text": [
      "--2021-04-01 08:31:48--  http://www.di.ens.fr/~lelarge/MNIST.tar.gz\n",
      "Resolving www.di.ens.fr (www.di.ens.fr)... 129.199.99.14\n",
      "Connecting to www.di.ens.fr (www.di.ens.fr)|129.199.99.14|:80... connected.\n",
      "HTTP request sent, awaiting response... 302 Found\n",
      "Location: https://www.di.ens.fr/~lelarge/MNIST.tar.gz [following]\n",
      "--2021-04-01 08:31:48--  https://www.di.ens.fr/~lelarge/MNIST.tar.gz\n",
      "Connecting to www.di.ens.fr (www.di.ens.fr)|129.199.99.14|:443... connected.\n",
      "HTTP request sent, awaiting response... 200 OK\n",
      "Length: unspecified [application/x-gzip]\n",
      "Saving to: ‘MNIST.tar.gz.3’\n",
      "\n",
      "MNIST.tar.gz.3          [     <=>            ]  33.20M  39.7MB/s    in 0.8s    \n",
      "\n",
      "2021-04-01 08:31:49 (39.7 MB/s) - ‘MNIST.tar.gz.3’ saved [34813078]\n",
      "\n",
      "MNIST/\n",
      "MNIST/raw/\n",
      "MNIST/raw/train-labels-idx1-ubyte\n",
      "MNIST/raw/t10k-labels-idx1-ubyte.gz\n",
      "MNIST/raw/t10k-labels-idx1-ubyte\n",
      "MNIST/raw/t10k-images-idx3-ubyte.gz\n",
      "MNIST/raw/train-images-idx3-ubyte\n",
      "MNIST/raw/train-labels-idx1-ubyte.gz\n",
      "MNIST/raw/t10k-images-idx3-ubyte\n",
      "MNIST/raw/train-images-idx3-ubyte.gz\n",
      "MNIST/processed/\n",
      "MNIST/processed/training.pt\n",
      "MNIST/processed/test.pt\n"
     ]
    },
    {
     "name": "stderr",
     "output_type": "stream",
     "text": [
      "/usr/local/lib/python3.7/dist-packages/torchvision/datasets/mnist.py:69: UserWarning: test_data has been renamed data\n",
      "  warnings.warn(\"test_data has been renamed data\")\n",
      "/usr/local/lib/python3.7/dist-packages/torchvision/datasets/mnist.py:59: UserWarning: test_labels has been renamed targets\n",
      "  warnings.warn(\"test_labels has been renamed targets\")\n"
     ]
    }
   ],
   "source": [
    "# define the training and test sets\n",
    "# use SiameseDataset\n",
    "train_dataset = SiameseDataset(train=True)\n",
    "test_dataset = SiameseDataset(train=False)\n",
    "\n",
    "# create dataloaders for training and test datasets\n",
    "# use a batch size of 128 and set shuffle=True for the training set, set num_workers to 2 and pin_memory to True\n",
    "train_dataloader = torch.utils.data.DataLoader(train_dataset, batch_size=128, shuffle=True, num_workers=2, pin_memory=True)\n",
    "test_dataloader = torch.utils.data.DataLoader(test_dataset, batch_size=128, shuffle=True, num_workers=2, pin_memory=True)\n",
    "\n",
    "margin = 1.\n",
    "# create a instance of the embedding network and pass it as input to Siamese network\n",
    "embedding_net = EmbeddingNet()\n",
    "model = SiameseNetwork(embedding_net).to(device)\n",
    "# define the contrative loss with the specified margin\n",
    "criterion = ContrastiveLossSiamese(margin)\n",
    "optimizer = optim.Adam(model.parameters(), lr = 0.001)"
   ]
  },
  {
   "cell_type": "code",
   "execution_count": null,
   "metadata": {
    "colab": {
     "base_uri": "https://localhost:8080/"
    },
    "id": "CejgunVGzJPK",
    "outputId": "8e6b5b8e-7451-4e4d-df1d-193734fd6e45"
   },
   "outputs": [
    {
     "name": "stdout",
     "output_type": "stream",
     "text": [
      "Train Epoch: 1 [0/60000 (0%)]\tLoss: 0.255644\n",
      "Train Epoch: 1 [2560/60000 (4%)]\tLoss: 0.138500\n",
      "Train Epoch: 1 [5120/60000 (9%)]\tLoss: 0.111792\n",
      "Train Epoch: 1 [7680/60000 (13%)]\tLoss: 0.098582\n",
      "Train Epoch: 1 [10240/60000 (17%)]\tLoss: 0.090034\n",
      "Train Epoch: 1 [12800/60000 (21%)]\tLoss: 0.084024\n",
      "Train Epoch: 1 [15360/60000 (26%)]\tLoss: 0.079201\n",
      "Train Epoch: 1 [17920/60000 (30%)]\tLoss: 0.074997\n",
      "Train Epoch: 1 [20480/60000 (34%)]\tLoss: 0.072399\n",
      "Train Epoch: 1 [23040/60000 (38%)]\tLoss: 0.069929\n",
      "Train Epoch: 1 [25600/60000 (43%)]\tLoss: 0.067766\n",
      "Train Epoch: 1 [28160/60000 (47%)]\tLoss: 0.065901\n",
      "Train Epoch: 1 [30720/60000 (51%)]\tLoss: 0.064269\n",
      "Train Epoch: 1 [33280/60000 (55%)]\tLoss: 0.062978\n",
      "Train Epoch: 1 [35840/60000 (60%)]\tLoss: 0.061737\n",
      "Train Epoch: 1 [38400/60000 (64%)]\tLoss: 0.060494\n",
      "Train Epoch: 1 [40960/60000 (68%)]\tLoss: 0.059216\n",
      "Train Epoch: 1 [43520/60000 (72%)]\tLoss: 0.058180\n",
      "Train Epoch: 1 [46080/60000 (77%)]\tLoss: 0.057104\n",
      "Train Epoch: 1 [48640/60000 (81%)]\tLoss: 0.056195\n",
      "Train Epoch: 1 [51200/60000 (85%)]\tLoss: 0.055265\n",
      "Train Epoch: 1 [53760/60000 (90%)]\tLoss: 0.054282\n",
      "Train Epoch: 1 [56320/60000 (94%)]\tLoss: 0.053406\n",
      "Train Epoch: 1 [58880/60000 (98%)]\tLoss: 0.052628\n",
      "Average loss on training set: 0.052386\n",
      "Average loss on test set: 0.037100\n",
      "Train Epoch: 2 [0/60000 (0%)]\tLoss: 0.042314\n",
      "Train Epoch: 2 [2560/60000 (4%)]\tLoss: 0.037008\n",
      "Train Epoch: 2 [5120/60000 (9%)]\tLoss: 0.035642\n",
      "Train Epoch: 2 [7680/60000 (13%)]\tLoss: 0.035300\n",
      "Train Epoch: 2 [10240/60000 (17%)]\tLoss: 0.034365\n",
      "Train Epoch: 2 [12800/60000 (21%)]\tLoss: 0.033498\n",
      "Train Epoch: 2 [15360/60000 (26%)]\tLoss: 0.032683\n",
      "Train Epoch: 2 [17920/60000 (30%)]\tLoss: 0.032499\n",
      "Train Epoch: 2 [20480/60000 (34%)]\tLoss: 0.032189\n",
      "Train Epoch: 2 [23040/60000 (38%)]\tLoss: 0.032133\n",
      "Train Epoch: 2 [25600/60000 (43%)]\tLoss: 0.031981\n",
      "Train Epoch: 2 [28160/60000 (47%)]\tLoss: 0.031857\n",
      "Train Epoch: 2 [30720/60000 (51%)]\tLoss: 0.031518\n",
      "Train Epoch: 2 [33280/60000 (55%)]\tLoss: 0.031490\n",
      "Train Epoch: 2 [35840/60000 (60%)]\tLoss: 0.031437\n",
      "Train Epoch: 2 [38400/60000 (64%)]\tLoss: 0.031034\n",
      "Train Epoch: 2 [40960/60000 (68%)]\tLoss: 0.030893\n",
      "Train Epoch: 2 [43520/60000 (72%)]\tLoss: 0.030707\n",
      "Train Epoch: 2 [46080/60000 (77%)]\tLoss: 0.030328\n",
      "Train Epoch: 2 [48640/60000 (81%)]\tLoss: 0.030124\n",
      "Train Epoch: 2 [51200/60000 (85%)]\tLoss: 0.029861\n",
      "Train Epoch: 2 [53760/60000 (90%)]\tLoss: 0.029612\n",
      "Train Epoch: 2 [56320/60000 (94%)]\tLoss: 0.029380\n",
      "Train Epoch: 2 [58880/60000 (98%)]\tLoss: 0.029096\n",
      "Average loss on training set: 0.029112\n",
      "Average loss on test set: 0.024139\n",
      "Train Epoch: 3 [0/60000 (0%)]\tLoss: 0.023180\n",
      "Train Epoch: 3 [2560/60000 (4%)]\tLoss: 0.021917\n",
      "Train Epoch: 3 [5120/60000 (9%)]\tLoss: 0.021479\n",
      "Train Epoch: 3 [7680/60000 (13%)]\tLoss: 0.022539\n",
      "Train Epoch: 3 [10240/60000 (17%)]\tLoss: 0.022743\n",
      "Train Epoch: 3 [12800/60000 (21%)]\tLoss: 0.022805\n",
      "Train Epoch: 3 [15360/60000 (26%)]\tLoss: 0.022644\n",
      "Train Epoch: 3 [17920/60000 (30%)]\tLoss: 0.022582\n",
      "Train Epoch: 3 [20480/60000 (34%)]\tLoss: 0.022441\n",
      "Train Epoch: 3 [23040/60000 (38%)]\tLoss: 0.022220\n",
      "Train Epoch: 3 [25600/60000 (43%)]\tLoss: 0.022084\n",
      "Train Epoch: 3 [28160/60000 (47%)]\tLoss: 0.021657\n",
      "Train Epoch: 3 [30720/60000 (51%)]\tLoss: 0.021575\n",
      "Train Epoch: 3 [33280/60000 (55%)]\tLoss: 0.021434\n",
      "Train Epoch: 3 [35840/60000 (60%)]\tLoss: 0.021287\n",
      "Train Epoch: 3 [38400/60000 (64%)]\tLoss: 0.021155\n",
      "Train Epoch: 3 [40960/60000 (68%)]\tLoss: 0.020894\n",
      "Train Epoch: 3 [43520/60000 (72%)]\tLoss: 0.020995\n",
      "Train Epoch: 3 [46080/60000 (77%)]\tLoss: 0.020928\n",
      "Train Epoch: 3 [48640/60000 (81%)]\tLoss: 0.020964\n",
      "Train Epoch: 3 [51200/60000 (85%)]\tLoss: 0.020956\n",
      "Train Epoch: 3 [53760/60000 (90%)]\tLoss: 0.020826\n",
      "Train Epoch: 3 [56320/60000 (94%)]\tLoss: 0.020699\n",
      "Train Epoch: 3 [58880/60000 (98%)]\tLoss: 0.020551\n",
      "Average loss on training set: 0.020536\n",
      "Average loss on test set: 0.018691\n",
      "Train Epoch: 4 [0/60000 (0%)]\tLoss: 0.014743\n",
      "Train Epoch: 4 [2560/60000 (4%)]\tLoss: 0.016298\n",
      "Train Epoch: 4 [5120/60000 (9%)]\tLoss: 0.017489\n",
      "Train Epoch: 4 [7680/60000 (13%)]\tLoss: 0.016761\n",
      "Train Epoch: 4 [10240/60000 (17%)]\tLoss: 0.016641\n",
      "Train Epoch: 4 [12800/60000 (21%)]\tLoss: 0.016470\n",
      "Train Epoch: 4 [15360/60000 (26%)]\tLoss: 0.016576\n",
      "Train Epoch: 4 [17920/60000 (30%)]\tLoss: 0.016652\n",
      "Train Epoch: 4 [20480/60000 (34%)]\tLoss: 0.016905\n",
      "Train Epoch: 4 [23040/60000 (38%)]\tLoss: 0.017006\n",
      "Train Epoch: 4 [25600/60000 (43%)]\tLoss: 0.016772\n",
      "Train Epoch: 4 [28160/60000 (47%)]\tLoss: 0.016630\n",
      "Train Epoch: 4 [30720/60000 (51%)]\tLoss: 0.016355\n",
      "Train Epoch: 4 [33280/60000 (55%)]\tLoss: 0.016114\n",
      "Train Epoch: 4 [35840/60000 (60%)]\tLoss: 0.015915\n",
      "Train Epoch: 4 [38400/60000 (64%)]\tLoss: 0.015806\n",
      "Train Epoch: 4 [40960/60000 (68%)]\tLoss: 0.015626\n",
      "Train Epoch: 4 [43520/60000 (72%)]\tLoss: 0.015461\n",
      "Train Epoch: 4 [46080/60000 (77%)]\tLoss: 0.015389\n",
      "Train Epoch: 4 [48640/60000 (81%)]\tLoss: 0.015381\n",
      "Train Epoch: 4 [51200/60000 (85%)]\tLoss: 0.015358\n",
      "Train Epoch: 4 [53760/60000 (90%)]\tLoss: 0.015284\n",
      "Train Epoch: 4 [56320/60000 (94%)]\tLoss: 0.015067\n",
      "Train Epoch: 4 [58880/60000 (98%)]\tLoss: 0.014927\n",
      "Average loss on training set: 0.014907\n",
      "Average loss on test set: 0.014970\n",
      "Total time taken: 78 seconds\n"
     ]
    }
   ],
   "source": [
    "start = timeit.default_timer()\n",
    "for epoch in range(1, 5):\n",
    "  train(model, train_dataloader, device, optimizer, criterion, epoch)\n",
    "  test(model, test_dataloader, device, criterion)\n",
    "\n",
    "stop = timeit.default_timer()\n",
    "print('Total time taken: {} seconds'.format(int(stop - start)) )"
   ]
  },
  {
   "cell_type": "markdown",
   "metadata": {
    "id": "5S0vb38a_o_r"
   },
   "source": [
    "### Question 4\n",
    "\n",
    "Run the code cell above and plot(on the same graph) the average train and test losses w.r.t epochs trained."
   ]
  },
  {
   "cell_type": "code",
   "execution_count": null,
   "metadata": {
    "colab": {
     "base_uri": "https://localhost:8080/",
     "height": 265
    },
    "id": "5rhTcvYARQFJ",
    "outputId": "84b044fb-f150-4f61-e514-5f4d92e01e81"
   },
   "outputs": [
    {
     "data": {
      "image/png": "[encoded data removed]",
      "text/plain": [
       "<Figure size 432x288 with 1 Axes>"
      ]
     },
     "metadata": {
      "needs_background": "light",
      "tags": []
     },
     "output_type": "display_data"
    }
   ],
   "source": [
    "import matplotlib.pyplot as plt\n",
    "plt.plot(graph_epoch,graph_test_loss)\n",
    "plt.plot(graph_epoch,graph_train_loss)\n",
    "plt.legend([\"test loss\", \"train loss\"], loc =\"upper right\")\n",
    "plt.show()"
   ]
  },
  {
   "cell_type": "markdown",
   "metadata": {
    "id": "vgyN14PN5npM"
   },
   "source": [
    "### Question 5\n",
    "\n",
    "We have looked at training a Siamese Network with a pairwise contrastive loss. How would you modify the architecture above to use a triplet loss? The triplet loss is a ranking loss that uses image triplets consisting of an anchor $x_a$, a positive sample(similar to the anchor image) $x_p$ and a negative sample(dissimilar to the anchor image) $x_n$. Given triplet $(x_a, x_p, x_n)$ the teiplet loss is:\n",
    "\n",
    "$$\n",
    "L\\left(x_{a}, x_{p}, x_{n}\\right)=\\max \\left(0, m + \\|f(x_{a})-f(x_{p})\\|_{2}^{2} - \\|f(x_{a})-f(x_{n})\\|_{2}^{2}\\right)\n",
    "$$\n",
    "\n",
    "1. Write the dataloader to get triplets.\n",
    "2. Write code for class TripletLossSiamese. (the triplet loss)\n",
    "3. Describe in words how would you modify the network architecture to train it with a triplet loss."
   ]
  },
  {
   "cell_type": "code",
   "execution_count": null,
   "metadata": {
    "id": "s1UhDPNO5npM"
   },
   "outputs": [],
   "source": [
    "# Question 2.1, dataloader for triplets\n",
    "class TripletDataset(Dataset):\n",
    "    def __init__(self, train=True):\n",
    "        \n",
    "        self.train = train\n",
    "        #### YOUR CODE STARTS HERE ####\n",
    "        # Define a set of transforms for preparing the dataset\n",
    "        self.transform = transforms.Compose([transforms.ToTensor(),transforms.Normalize((0.1307,), (0.3081,))]) # convert the image to a pytorch tensor\n",
    "                          # normalise the images with mean and std of the dataset\n",
    "        \n",
    "        # Load the MNIST training, test datasets using `torchvision.datasets.MNIST\n",
    "        # Set the train parameter to self.train and transform parameter to self.transform\n",
    "        self.dataset = datasets.MNIST('./', train=self.train, download=True,transform=self.transform)\n",
    "\n",
    "        #### YOUR CODE ENDS HERE ####\n",
    "        if self.train:\n",
    "            #### YOUR CODE STARTS HERE ####\n",
    "            # assign input (x-values) of training data \n",
    "            self.train_data = self.dataset.train_data\n",
    "            # assign labels of training data \n",
    "            self.train_labels = self.dataset.train_labels\n",
    "            # get the set of all the labels in the dataset\n",
    "            self.labels_all = set(self.train_labels.numpy())\n",
    "            self.label_to_idx = {elem: np.where(self.train_labels.numpy() == elem)[0] for elem in self.labels_all} # assign a unique index to all labels in the dataset and store them in a dictionary \n",
    "\n",
    "            #### YOUR CODE ENDS HERE ####\n",
    "        else:\n",
    "            #### YOUR CODE STARTS HERE ####\n",
    "            # assign input (x-values) of test data \n",
    "            self.test_data = self.dataset.test_data\n",
    "            # assign labels of test data \n",
    "            self.test_labels = self.dataset.test_labels\n",
    "            # get the set of all the labels in the dataset\n",
    "            self.labels_all = set(self.test_labels.numpy())\n",
    "            self.label_to_idx = {elem: np.where(self.test_labels.numpy() == elem)[0] for elem in self.labels_all} # assign a unique index to all labels in the dataset and store them in a dictionary \n",
    "\n",
    "            #### YOUR CODE ENDS HERE ####\n",
    "            # DONOT change this line of code  \n",
    "            random_state = np.random.RandomState(0)\n",
    "            triplets = [] #this will be list of lists\n",
    "            for i in range(len(self.test_data)):\n",
    "                triplets.append([i, random_state.choice(self.label_to_idx[self.test_labels[i].item()]),\n",
    "                 random_state.choice(self.label_to_idx[np.random.choice(list(self.labels_all - set([self.test_labels[i].item()])))])\n",
    "                                ])\n",
    "            self.test_samples = triplets\n",
    "\n",
    "           \n",
    "    def __len__(self):\n",
    "        return len(self.dataset)\n",
    "\n",
    "    def __getitem__(self, index):\n",
    "        # get image triplet\n",
    "        if self.train:\n",
    "            anchor, anchor_label = self.train_data[index], self.train_labels[index].item\n",
    "            #### YOUR CODE STARTS HERE ####\n",
    "            #choose positive and negative image call them `positive` and `negative` respectively\n",
    "            while True:\n",
    "                positive_index = np.random.choice(self.label_to_indices[anchor_label])\n",
    "                if positive_index != index :\n",
    "                  break\n",
    "            positive = self.train_data[positive_index]\n",
    "            \n",
    "            negative_label = np.random.choice(list(self.labels_set - set([anchor_label])))\n",
    "            negative_index = np.random.choice(self.label_to_indices[negative_label])\n",
    "            negative = self.train_data[negative_index]\n",
    "            #### YOUR CODE ENDS HERE ####\n",
    "        else:\n",
    "            #### YOUR CODE STARTS HERE ####\n",
    "            # select three images from self.test_samples\n",
    "            anchor = self.test_data[self.test_samples[index][0]]\n",
    "            positive = self.test_data[self.test_samples[index][1]]\n",
    "            negative = self.test_data[self.test_samples[index][2]]\n",
    "            #### YOUR CODE ENDS HERE ####\n",
    "        \n",
    "        anchor = Image.fromarray(anchor.numpy(), mode='L')\n",
    "        positive = Image.fromarray(positive.numpy(), mode='L')\n",
    "        negative = Image.fromarray(negative.numpy(), mode='L')\n",
    "        anchor = self.transform(anchor)\n",
    "        positive = self.transform(positive)\n",
    "        negative = self.transform(negative)\n",
    "        return (anchor, positive, negative), []"
   ]
  },
  {
   "cell_type": "code",
   "execution_count": null,
   "metadata": {
    "id": "Yz-LGiJN5npM"
   },
   "outputs": [],
   "source": [
    "# Question 2.2, define triplet loss\n",
    "class TripletLossSiamese(nn.Module):\n",
    "\n",
    "    def __init__(self, margin):\n",
    "        super(TripletLossSiamese, self).__init__()\n",
    "        self.margin = margin\n",
    "\n",
    "    def forward(self, output_anchor, output_positive, output_negative):\n",
    "        # Use the triplet loss equation mentioned above to define the loss\n",
    "        #### YOUR CODE STARTS HERE ####\n",
    "        dist_pos = F.pairwise_distance(output_anchor, output_positive)\n",
    "        dist_pos = torch.pow(dist_pos, 2)\n",
    "        dist_neg = F.pairwise_distance(output_anchor, output_negative)\n",
    "        dist_neg = torch.pow(dist_neg, 2)\n",
    "        loss_value = torch.clamp(self.margin + dist_pos - dist_neg,min=0.0)\n",
    "        #### YOUR CODE ENDS HERE ####\n",
    "        loss_value = loss_value.mean()\n",
    "\n",
    "        return loss_value"
   ]
  },
  {
   "cell_type": "code",
   "execution_count": null,
   "metadata": {
    "id": "g6VrcBTqh2YM"
   },
   "outputs": [],
   "source": [
    "# In SiameseNetwork, we had 2 outputs using embedding_net in the forward function but for the triplet loss, we need three outputs\n",
    "# and 'criterion' will be TripletLossSiamese"
   ]
  },
  {
   "cell_type": "markdown",
   "metadata": {
    "id": "6oP275cQFPvA"
   },
   "source": [
    "## Object Detection\n",
    "\n",
    "Go through the [Torchvision Object Detection Tutorial](https://pytorch.org/tutorials/intermediate/torchvision_tutorial.html) and ensure you understand the tutorial completely!\n",
    "\n",
    "After you have completely gone through the tutorial answer the following questions!"
   ]
  },
  {
   "cell_type": "markdown",
   "metadata": {
    "id": "LtaG0iORIXid"
   },
   "source": [
    "### Question 6\n",
    "\n",
    "Consider the metrics `AP@IoU=0.5` and `AP@IoU=0.75` used in the tutorial. Which of the following statements is True?  \n",
    "\n",
    "1. `IoU@0.75` will always be less than `IoU@0.5`\n",
    "2. `IoU@0.75` will always be  greater than `IoU@0.5` \n",
    "3. `IoU@0.75` need not be always be less than `IoU@0.5`\n",
    "4. `IoU@0.75` need not always be  greater than `IoU@0.5` "
   ]
  },
  {
   "cell_type": "code",
   "execution_count": null,
   "metadata": {
    "id": "l0W1mcTWLdwJ"
   },
   "outputs": [],
   "source": [
    "# 1.IoU@0.75 will always be less than IoU@0.5 is True "
   ]
  },
  {
   "cell_type": "markdown",
   "metadata": {
    "id": "n9yyqsuyPAMv"
   },
   "source": [
    "### Question 7\n",
    "\n",
    "Tutorial uses a network that is pre-trained on COCO dataset. Will training this model from scratch improve the performance? Provide justification for your answer. (Hint: You don't really have to re-train the model for this)"
   ]
  },
  {
   "cell_type": "code",
   "execution_count": null,
   "metadata": {
    "id": "Q3vd8V5BfR8R"
   },
   "outputs": [],
   "source": [
    " # Training model from scratch will not improve performance much\n",
    " # because the model trained from scratch will also give comparative and close results to that of the fine-tuned model \n",
    " # as most of the generic features will be same."
   ]
  },
  {
   "cell_type": "markdown",
   "metadata": {
    "id": "71DVEZQf5hr8"
   },
   "source": [
    "### Question 8\n",
    "\n",
    "Write code to calculate IoU between aligned predicted bounding-boxes bbox_p and ground-truth bounding-boxes bbox_gt. Assume a co-ordinate system that has origin (0,0) at the upper-left corner of the image, and to the  right and down are +ve directions of x-axis and y-axis respectively."
   ]
  },
  {
   "cell_type": "code",
   "execution_count": null,
   "metadata": {
    "id": "rngaSEln5npN"
   },
   "outputs": [],
   "source": [
    "def calculate_iou(bbox_p, bbox_gt):\n",
    "    #input: bbox_p and bbox_gt are (N,4) tensors\n",
    "    #output: ious (N,) vector\n",
    "    N = bbox_p.size(0)\n",
    "    \n",
    "    #### YOUR CODE STARTS HERE ####\n",
    "    # write code to compute the IoU between the bounding boxes\n",
    "    ious = []\n",
    "    print(bbox_p.size())\n",
    "    for i in range(N):\n",
    "      box1 = bbox_p[i]\n",
    "      box2 = bbox_gt[i]\n",
    "      x1 = max(box1[0], box2[0])\n",
    "      y1 = max(box1[1], box2[1])\n",
    "      x2 = min(box1[2], box2[2])\n",
    "      y2 = min(box1[3], box2[3])\n",
    "    intersection = max(y2-y1, 0) * max(x2-x1, 0)\n",
    "    area1 = (box1[3] - box1[1]) *  (box1[2] - box1[0])\n",
    "    area2 = (box2[3] - box2[1]) *  (box2[2] - box2[0])\n",
    "    union = area1 + area2 - intersection\n",
    "    iou = intersection/union\n",
    "    ious.append(iou)\n",
    "    #### YOUR CODE ENDS HERE ####\n",
    "    \n",
    "    return ious"
   ]
  },
  {
   "cell_type": "markdown",
   "metadata": {
    "id": "jR10OiXy6SkR"
   },
   "source": []
  }
 ],
 "metadata": {
  "accelerator": "GPU",
  "colab": {
   "collapsed_sections": [],
   "name": "Assingment_4.ipynb",
   "provenance": []
  },
  "kernelspec": {
   "display_name": "Python 3",
   "language": "python",
   "name": "python3"
  },
  "language_info": {
   "codemirror_mode": {
    "name": "ipython",
    "version": 3
   },
   "file_extension": ".py",
   "mimetype": "text/x-python",
   "name": "python",
   "nbconvert_exporter": "python",
   "pygments_lexer": "ipython3",
   "version": "3.8.5"
  }
 },
 "nbformat": 4,
 "nbformat_minor": 1
}
